{
 "cells": [
  {
   "cell_type": "code",
   "execution_count": 15,
   "id": "4c865fc2-0863-4a12-8874-a470d310b8ff",
   "metadata": {
    "execution": {
     "iopub.execute_input": "2024-01-10T10:29:58.135202Z",
     "iopub.status.busy": "2024-01-10T10:29:58.135202Z",
     "iopub.status.idle": "2024-01-10T10:29:58.524663Z",
     "shell.execute_reply": "2024-01-10T10:29:58.524663Z",
     "shell.execute_reply.started": "2024-01-10T10:29:58.135202Z"
    }
   },
   "outputs": [],
   "source": [
    "from pathlib import Path\n",
    "\n",
    "import pandas as pd\n",
    "\n",
    "import matplotlib.pyplot as plt"
   ]
  },
  {
   "cell_type": "code",
   "execution_count": 3,
   "id": "4a9e4585-948d-4964-bf66-2c940a5f4212",
   "metadata": {
    "execution": {
     "iopub.execute_input": "2024-01-10T07:12:26.691168Z",
     "iopub.status.busy": "2024-01-10T07:12:26.691168Z",
     "iopub.status.idle": "2024-01-10T07:12:26.695913Z",
     "shell.execute_reply": "2024-01-10T07:12:26.694918Z",
     "shell.execute_reply.started": "2024-01-10T07:12:26.691168Z"
    }
   },
   "outputs": [],
   "source": [
    "DATA_PATH = Path(r\"C:\\Users\\Dmaytryus\\Downloads\\data\")\n",
    "CB_PATH = DATA_PATH / \"ЦБ\""
   ]
  },
  {
   "cell_type": "markdown",
   "id": "a1491ed4-ea5f-40ea-a7c1-94e6c9c8fe86",
   "metadata": {},
   "source": [
    "# Data preparation"
   ]
  },
  {
   "cell_type": "code",
   "execution_count": 4,
   "id": "3d906f18-9f2a-479b-9cb2-49d531235dc6",
   "metadata": {
    "execution": {
     "iopub.execute_input": "2024-01-10T07:12:27.935207Z",
     "iopub.status.busy": "2024-01-10T07:12:27.934209Z",
     "iopub.status.idle": "2024-01-10T07:12:27.939414Z",
     "shell.execute_reply": "2024-01-10T07:12:27.939414Z",
     "shell.execute_reply.started": "2024-01-10T07:12:27.935207Z"
    }
   },
   "outputs": [],
   "source": [
    "def data_preparation():\n",
    "    result = pd.read_csv(CB_PATH / \"metalls.csv\", sep=\",\")\n",
    "    result[\"Дата\"] = pd.to_datetime(result[\"Дата\"], format=\"%d.%m.%Y\")\n",
    "\n",
    "    for f in CB_PATH.iterdir():\n",
    "        if f.suffix != \".xlsx\":\n",
    "            continue\n",
    "        t = pd.read_excel(f)\n",
    "        valut_name = t.loc[0, \"cdx\"]\n",
    "        t[valut_name] = t[\"curs\"] / t[\"nominal\"]\n",
    "        t = t.rename(columns={\"data\": \"Дата\"})\n",
    "        result = result.merge(t[[\"Дата\", valut_name]], on=\"Дата\")\n",
    "\n",
    "    return result"
   ]
  },
  {
   "cell_type": "code",
   "execution_count": 7,
   "id": "52c41104-78ad-4c5b-b449-0afc235c2424",
   "metadata": {
    "execution": {
     "iopub.execute_input": "2024-01-10T07:16:25.791041Z",
     "iopub.status.busy": "2024-01-10T07:16:25.791041Z",
     "iopub.status.idle": "2024-01-10T07:16:25.793896Z",
     "shell.execute_reply": "2024-01-10T07:16:25.793896Z",
     "shell.execute_reply.started": "2024-01-10T07:16:25.791041Z"
    }
   },
   "outputs": [],
   "source": [
    "# data = data_preparation()\n",
    "# data.to_pickle(\"data.pickle\")"
   ]
  },
  {
   "cell_type": "code",
   "execution_count": 8,
   "id": "e3c501ce-707b-4a31-b6e8-b90228c501cd",
   "metadata": {
    "execution": {
     "iopub.execute_input": "2024-01-10T07:16:48.296108Z",
     "iopub.status.busy": "2024-01-10T07:16:48.295112Z",
     "iopub.status.idle": "2024-01-10T07:16:48.320999Z",
     "shell.execute_reply": "2024-01-10T07:16:48.319999Z",
     "shell.execute_reply.started": "2024-01-10T07:16:48.296108Z"
    }
   },
   "outputs": [
    {
     "data": {
      "text/html": [
       "<div>\n",
       "<style scoped>\n",
       "    .dataframe tbody tr th:only-of-type {\n",
       "        vertical-align: middle;\n",
       "    }\n",
       "\n",
       "    .dataframe tbody tr th {\n",
       "        vertical-align: top;\n",
       "    }\n",
       "\n",
       "    .dataframe thead th {\n",
       "        text-align: right;\n",
       "    }\n",
       "</style>\n",
       "<table border=\"1\" class=\"dataframe\">\n",
       "  <thead>\n",
       "    <tr style=\"text-align: right;\">\n",
       "      <th></th>\n",
       "      <th>Дата</th>\n",
       "      <th>Золото</th>\n",
       "      <th>Серебро</th>\n",
       "      <th>Платина</th>\n",
       "      <th>Палладий</th>\n",
       "      <th>Евро</th>\n",
       "      <th>Японская иена</th>\n",
       "      <th>Киргизский сом</th>\n",
       "      <th>Шведская крона</th>\n",
       "      <th>Фунт стерлингов Соединенного королевства</th>\n",
       "      <th>Доллар США</th>\n",
       "      <th>Украинская гривна</th>\n",
       "    </tr>\n",
       "  </thead>\n",
       "  <tbody>\n",
       "    <tr>\n",
       "      <th>0</th>\n",
       "      <td>2010-01-12</td>\n",
       "      <td>1 095,6300</td>\n",
       "      <td>17,14</td>\n",
       "      <td>1 496,8000</td>\n",
       "      <td>406,37</td>\n",
       "      <td>42.6681</td>\n",
       "      <td>0.318626</td>\n",
       "      <td>0.666175</td>\n",
       "      <td>4.18461</td>\n",
       "      <td>47.4796</td>\n",
       "      <td>29.4283</td>\n",
       "      <td>3.66708</td>\n",
       "    </tr>\n",
       "    <tr>\n",
       "      <th>1</th>\n",
       "      <td>2010-01-13</td>\n",
       "      <td>1 088,7800</td>\n",
       "      <td>17,79</td>\n",
       "      <td>1 523,4900</td>\n",
       "      <td>410,86</td>\n",
       "      <td>42.6149</td>\n",
       "      <td>0.319615</td>\n",
       "      <td>0.665023</td>\n",
       "      <td>4.17156</td>\n",
       "      <td>47.3006</td>\n",
       "      <td>29.3774</td>\n",
       "      <td>3.66074</td>\n",
       "    </tr>\n",
       "    <tr>\n",
       "      <th>2</th>\n",
       "      <td>2010-01-14</td>\n",
       "      <td>1 079,4800</td>\n",
       "      <td>17,54</td>\n",
       "      <td>1 489,5000</td>\n",
       "      <td>401,2</td>\n",
       "      <td>42.9497</td>\n",
       "      <td>0.324761</td>\n",
       "      <td>0.670988</td>\n",
       "      <td>4.20027</td>\n",
       "      <td>48.0686</td>\n",
       "      <td>29.6409</td>\n",
       "      <td>3.64407</td>\n",
       "    </tr>\n",
       "    <tr>\n",
       "      <th>3</th>\n",
       "      <td>2010-01-15</td>\n",
       "      <td>1 076,2900</td>\n",
       "      <td>17,36</td>\n",
       "      <td>1 495,9300</td>\n",
       "      <td>405,92</td>\n",
       "      <td>42.7764</td>\n",
       "      <td>0.320343</td>\n",
       "      <td>0.666212</td>\n",
       "      <td>4.19468</td>\n",
       "      <td>47.9148</td>\n",
       "      <td>29.4299</td>\n",
       "      <td>3.61813</td>\n",
       "    </tr>\n",
       "    <tr>\n",
       "      <th>4</th>\n",
       "      <td>2010-01-16</td>\n",
       "      <td>1 075,8400</td>\n",
       "      <td>17,66</td>\n",
       "      <td>1 530,1200</td>\n",
       "      <td>429,57</td>\n",
       "      <td>42.5905</td>\n",
       "      <td>0.325877</td>\n",
       "      <td>0.668407</td>\n",
       "      <td>4.18624</td>\n",
       "      <td>48.2395</td>\n",
       "      <td>29.5603</td>\n",
       "      <td>3.65845</td>\n",
       "    </tr>\n",
       "    <tr>\n",
       "      <th>...</th>\n",
       "      <td>...</td>\n",
       "      <td>...</td>\n",
       "      <td>...</td>\n",
       "      <td>...</td>\n",
       "      <td>...</td>\n",
       "      <td>...</td>\n",
       "      <td>...</td>\n",
       "      <td>...</td>\n",
       "      <td>...</td>\n",
       "      <td>...</td>\n",
       "      <td>...</td>\n",
       "      <td>...</td>\n",
       "    </tr>\n",
       "    <tr>\n",
       "      <th>3454</th>\n",
       "      <td>2023-12-26</td>\n",
       "      <td>6 078,1400</td>\n",
       "      <td>72,33</td>\n",
       "      <td>2 868,1600</td>\n",
       "      <td>3 616,2500</td>\n",
       "      <td>101.5781</td>\n",
       "      <td>0.646531</td>\n",
       "      <td>1.031460</td>\n",
       "      <td>9.16976</td>\n",
       "      <td>116.3960</td>\n",
       "      <td>91.9690</td>\n",
       "      <td>2.44908</td>\n",
       "    </tr>\n",
       "    <tr>\n",
       "      <th>3455</th>\n",
       "      <td>2023-12-27</td>\n",
       "      <td>6 060,8200</td>\n",
       "      <td>72,12</td>\n",
       "      <td>2 859,9900</td>\n",
       "      <td>3 605,9500</td>\n",
       "      <td>101.1178</td>\n",
       "      <td>0.644915</td>\n",
       "      <td>1.030340</td>\n",
       "      <td>9.14362</td>\n",
       "      <td>116.0643</td>\n",
       "      <td>91.7069</td>\n",
       "      <td>2.44405</td>\n",
       "    </tr>\n",
       "    <tr>\n",
       "      <th>3456</th>\n",
       "      <td>2023-12-28</td>\n",
       "      <td>6 060,7000</td>\n",
       "      <td>72,12</td>\n",
       "      <td>2 859,9300</td>\n",
       "      <td>3 605,8800</td>\n",
       "      <td>101.3451</td>\n",
       "      <td>0.642868</td>\n",
       "      <td>1.030060</td>\n",
       "      <td>9.14345</td>\n",
       "      <td>116.0620</td>\n",
       "      <td>91.7051</td>\n",
       "      <td>2.45408</td>\n",
       "    </tr>\n",
       "    <tr>\n",
       "      <th>3457</th>\n",
       "      <td>2023-12-29</td>\n",
       "      <td>6 008,1800</td>\n",
       "      <td>69,8</td>\n",
       "      <td>2 833,6600</td>\n",
       "      <td>3 408,5200</td>\n",
       "      <td>100.5506</td>\n",
       "      <td>0.637516</td>\n",
       "      <td>1.013940</td>\n",
       "      <td>9.02960</td>\n",
       "      <td>115.4899</td>\n",
       "      <td>90.3041</td>\n",
       "      <td>2.40047</td>\n",
       "    </tr>\n",
       "    <tr>\n",
       "      <th>3458</th>\n",
       "      <td>2023-12-30</td>\n",
       "      <td>5 993,1600</td>\n",
       "      <td>69,94</td>\n",
       "      <td>2 883,5400</td>\n",
       "      <td>3 275,7100</td>\n",
       "      <td>99.1919</td>\n",
       "      <td>0.633302</td>\n",
       "      <td>1.006770</td>\n",
       "      <td>9.03042</td>\n",
       "      <td>114.5320</td>\n",
       "      <td>89.6883</td>\n",
       "      <td>2.36131</td>\n",
       "    </tr>\n",
       "  </tbody>\n",
       "</table>\n",
       "<p>3459 rows × 12 columns</p>\n",
       "</div>"
      ],
      "text/plain": [
       "           Дата      Золото Серебро     Платина    Палладий      Евро  \\\n",
       "0    2010-01-12  1 095,6300   17,14  1 496,8000      406,37   42.6681   \n",
       "1    2010-01-13  1 088,7800   17,79  1 523,4900      410,86   42.6149   \n",
       "2    2010-01-14  1 079,4800   17,54  1 489,5000       401,2   42.9497   \n",
       "3    2010-01-15  1 076,2900   17,36  1 495,9300      405,92   42.7764   \n",
       "4    2010-01-16  1 075,8400   17,66  1 530,1200      429,57   42.5905   \n",
       "...         ...         ...     ...         ...         ...       ...   \n",
       "3454 2023-12-26  6 078,1400   72,33  2 868,1600  3 616,2500  101.5781   \n",
       "3455 2023-12-27  6 060,8200   72,12  2 859,9900  3 605,9500  101.1178   \n",
       "3456 2023-12-28  6 060,7000   72,12  2 859,9300  3 605,8800  101.3451   \n",
       "3457 2023-12-29  6 008,1800    69,8  2 833,6600  3 408,5200  100.5506   \n",
       "3458 2023-12-30  5 993,1600   69,94  2 883,5400  3 275,7100   99.1919   \n",
       "\n",
       "      Японская иена  Киргизский сом  Шведская крона  \\\n",
       "0          0.318626        0.666175         4.18461   \n",
       "1          0.319615        0.665023         4.17156   \n",
       "2          0.324761        0.670988         4.20027   \n",
       "3          0.320343        0.666212         4.19468   \n",
       "4          0.325877        0.668407         4.18624   \n",
       "...             ...             ...             ...   \n",
       "3454       0.646531        1.031460         9.16976   \n",
       "3455       0.644915        1.030340         9.14362   \n",
       "3456       0.642868        1.030060         9.14345   \n",
       "3457       0.637516        1.013940         9.02960   \n",
       "3458       0.633302        1.006770         9.03042   \n",
       "\n",
       "      Фунт стерлингов Соединенного королевства  Доллар США  Украинская гривна  \n",
       "0                                      47.4796     29.4283            3.66708  \n",
       "1                                      47.3006     29.3774            3.66074  \n",
       "2                                      48.0686     29.6409            3.64407  \n",
       "3                                      47.9148     29.4299            3.61813  \n",
       "4                                      48.2395     29.5603            3.65845  \n",
       "...                                        ...         ...                ...  \n",
       "3454                                  116.3960     91.9690            2.44908  \n",
       "3455                                  116.0643     91.7069            2.44405  \n",
       "3456                                  116.0620     91.7051            2.45408  \n",
       "3457                                  115.4899     90.3041            2.40047  \n",
       "3458                                  114.5320     89.6883            2.36131  \n",
       "\n",
       "[3459 rows x 12 columns]"
      ]
     },
     "execution_count": 8,
     "metadata": {},
     "output_type": "execute_result"
    }
   ],
   "source": [
    "data = pd.read_pickle(\"data.pickle\")\n",
    "data"
   ]
  },
  {
   "cell_type": "markdown",
   "id": "5037ee58-4f92-4128-a097-482d6c1c3385",
   "metadata": {},
   "source": [
    "# Analysis"
   ]
  },
  {
   "cell_type": "code",
   "execution_count": 38,
   "id": "91a85b24-59b7-4994-9c64-d685b0d4b02d",
   "metadata": {
    "execution": {
     "iopub.execute_input": "2024-01-10T10:43:02.331146Z",
     "iopub.status.busy": "2024-01-10T10:43:02.331146Z",
     "iopub.status.idle": "2024-01-10T10:43:02.334757Z",
     "shell.execute_reply": "2024-01-10T10:43:02.334757Z",
     "shell.execute_reply.started": "2024-01-10T10:43:02.331146Z"
    }
   },
   "outputs": [],
   "source": [
    "def time_series_plot(data, fields=None):\n",
    "    fields = fields or list(data.columns)\n",
    "\n",
    "    for f in fields:\n",
    "        plt.plot(data.index, data[f], label=f)\n",
    "    plt.legend()\n",
    "    plt.show()"
   ]
  },
  {
   "cell_type": "markdown",
   "id": "fc7da1a8-0aa6-44e2-9486-27d66b63bf85",
   "metadata": {
    "execution": {
     "iopub.execute_input": "2024-01-10T07:18:44.528053Z",
     "iopub.status.busy": "2024-01-10T07:18:44.527056Z",
     "iopub.status.idle": "2024-01-10T07:18:44.530235Z",
     "shell.execute_reply": "2024-01-10T07:18:44.530235Z",
     "shell.execute_reply.started": "2024-01-10T07:18:44.528053Z"
    }
   },
   "source": [
    "## Drag metals exclude silver"
   ]
  },
  {
   "cell_type": "code",
   "execution_count": 39,
   "id": "ac1f3caa-5723-4084-baf0-34a2d9d88519",
   "metadata": {
    "execution": {
     "iopub.execute_input": "2024-01-10T10:43:03.784929Z",
     "iopub.status.busy": "2024-01-10T10:43:03.783966Z",
     "iopub.status.idle": "2024-01-10T10:43:03.801670Z",
     "shell.execute_reply": "2024-01-10T10:43:03.801670Z",
     "shell.execute_reply.started": "2024-01-10T10:43:03.784929Z"
    }
   },
   "outputs": [
    {
     "data": {
      "text/html": [
       "<div>\n",
       "<style scoped>\n",
       "    .dataframe tbody tr th:only-of-type {\n",
       "        vertical-align: middle;\n",
       "    }\n",
       "\n",
       "    .dataframe tbody tr th {\n",
       "        vertical-align: top;\n",
       "    }\n",
       "\n",
       "    .dataframe thead th {\n",
       "        text-align: right;\n",
       "    }\n",
       "</style>\n",
       "<table border=\"1\" class=\"dataframe\">\n",
       "  <thead>\n",
       "    <tr style=\"text-align: right;\">\n",
       "      <th></th>\n",
       "      <th>Золото</th>\n",
       "      <th>Платина</th>\n",
       "      <th>Палладий</th>\n",
       "    </tr>\n",
       "    <tr>\n",
       "      <th>Дата</th>\n",
       "      <th></th>\n",
       "      <th></th>\n",
       "      <th></th>\n",
       "    </tr>\n",
       "  </thead>\n",
       "  <tbody>\n",
       "    <tr>\n",
       "      <th>2010-01-12</th>\n",
       "      <td>1095.63</td>\n",
       "      <td>1496.80</td>\n",
       "      <td>406.37</td>\n",
       "    </tr>\n",
       "    <tr>\n",
       "      <th>2010-01-13</th>\n",
       "      <td>1088.78</td>\n",
       "      <td>1523.49</td>\n",
       "      <td>410.86</td>\n",
       "    </tr>\n",
       "    <tr>\n",
       "      <th>2010-01-14</th>\n",
       "      <td>1079.48</td>\n",
       "      <td>1489.50</td>\n",
       "      <td>401.20</td>\n",
       "    </tr>\n",
       "    <tr>\n",
       "      <th>2010-01-15</th>\n",
       "      <td>1076.29</td>\n",
       "      <td>1495.93</td>\n",
       "      <td>405.92</td>\n",
       "    </tr>\n",
       "    <tr>\n",
       "      <th>2010-01-16</th>\n",
       "      <td>1075.84</td>\n",
       "      <td>1530.12</td>\n",
       "      <td>429.57</td>\n",
       "    </tr>\n",
       "    <tr>\n",
       "      <th>...</th>\n",
       "      <td>...</td>\n",
       "      <td>...</td>\n",
       "      <td>...</td>\n",
       "    </tr>\n",
       "    <tr>\n",
       "      <th>2023-12-26</th>\n",
       "      <td>6078.14</td>\n",
       "      <td>2868.16</td>\n",
       "      <td>3616.25</td>\n",
       "    </tr>\n",
       "    <tr>\n",
       "      <th>2023-12-27</th>\n",
       "      <td>6060.82</td>\n",
       "      <td>2859.99</td>\n",
       "      <td>3605.95</td>\n",
       "    </tr>\n",
       "    <tr>\n",
       "      <th>2023-12-28</th>\n",
       "      <td>6060.70</td>\n",
       "      <td>2859.93</td>\n",
       "      <td>3605.88</td>\n",
       "    </tr>\n",
       "    <tr>\n",
       "      <th>2023-12-29</th>\n",
       "      <td>6008.18</td>\n",
       "      <td>2833.66</td>\n",
       "      <td>3408.52</td>\n",
       "    </tr>\n",
       "    <tr>\n",
       "      <th>2023-12-30</th>\n",
       "      <td>5993.16</td>\n",
       "      <td>2883.54</td>\n",
       "      <td>3275.71</td>\n",
       "    </tr>\n",
       "  </tbody>\n",
       "</table>\n",
       "<p>3459 rows × 3 columns</p>\n",
       "</div>"
      ],
      "text/plain": [
       "             Золото  Платина  Палладий\n",
       "Дата                                  \n",
       "2010-01-12  1095.63  1496.80    406.37\n",
       "2010-01-13  1088.78  1523.49    410.86\n",
       "2010-01-14  1079.48  1489.50    401.20\n",
       "2010-01-15  1076.29  1495.93    405.92\n",
       "2010-01-16  1075.84  1530.12    429.57\n",
       "...             ...      ...       ...\n",
       "2023-12-26  6078.14  2868.16   3616.25\n",
       "2023-12-27  6060.82  2859.99   3605.95\n",
       "2023-12-28  6060.70  2859.93   3605.88\n",
       "2023-12-29  6008.18  2833.66   3408.52\n",
       "2023-12-30  5993.16  2883.54   3275.71\n",
       "\n",
       "[3459 rows x 3 columns]"
      ]
     },
     "execution_count": 39,
     "metadata": {},
     "output_type": "execute_result"
    }
   ],
   "source": [
    "mes = data[[\"Дата\", \"Золото\", \"Платина\", \"Палладий\"]]\n",
    "mes = mes.set_index('Дата')\n",
    "mes = mes.map(lambda x: float(x.replace(',', '.').replace(' ', '')))\n",
    "mes"
   ]
  },
  {
   "cell_type": "code",
   "execution_count": 40,
   "id": "9077f5d9-571b-4cb0-8e12-ffad143355b1",
   "metadata": {
    "execution": {
     "iopub.execute_input": "2024-01-10T10:43:04.429462Z",
     "iopub.status.busy": "2024-01-10T10:43:04.428466Z",
     "iopub.status.idle": "2024-01-10T10:43:04.432015Z",
     "shell.execute_reply": "2024-01-10T10:43:04.432015Z",
     "shell.execute_reply.started": "2024-01-10T10:43:04.429462Z"
    }
   },
   "outputs": [],
   "source": [
    "# mes[mes.index >= '2022']"
   ]
  },
  {
   "cell_type": "code",
   "execution_count": 41,
   "id": "130bf671-86c5-4445-a847-7e702aa07f53",
   "metadata": {
    "execution": {
     "iopub.execute_input": "2024-01-10T10:43:05.042154Z",
     "iopub.status.busy": "2024-01-10T10:43:05.042154Z",
     "iopub.status.idle": "2024-01-10T10:43:05.264969Z",
     "shell.execute_reply": "2024-01-10T10:43:05.264969Z",
     "shell.execute_reply.started": "2024-01-10T10:43:05.042154Z"
    }
   },
   "outputs": [
    {
     "data": {
      "image/png": "[encoded data removed]",
      "text/plain": [
       "<Figure size 640x480 with 1 Axes>"
      ]
     },
     "metadata": {},
     "output_type": "display_data"
    }
   ],
   "source": [
    "time_series_plot(mes)"
   ]
  },
  {
   "cell_type": "code",
   "execution_count": null,
   "id": "e243759f-d77c-47b3-8a80-a8062d3b7cfb",
   "metadata": {},
   "outputs": [],
   "source": []
  }
 ],
 "metadata": {
  "kernelspec": {
   "display_name": "Python 3 (ipykernel)",
   "language": "python",
   "name": "python3"
  },
  "language_info": {
   "codemirror_mode": {
    "name": "ipython",
    "version": 3
   },
   "file_extension": ".py",
   "mimetype": "text/x-python",
   "name": "python",
   "nbconvert_exporter": "python",
   "pygments_lexer": "ipython3",
   "version": "3.12.1"
  }
 },
 "nbformat": 4,
 "nbformat_minor": 5
}
